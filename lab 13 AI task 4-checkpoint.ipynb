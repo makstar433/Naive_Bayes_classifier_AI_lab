{
 "cells": [
  {
   "cell_type": "code",
   "execution_count": 3,
   "id": "7b289d4e",
   "metadata": {},
   "outputs": [
    {
     "name": "stdout",
     "output_type": "stream",
     "text": [
      "Naïve Bayes\n",
      "Average F-measure: 0.8515384615384616\n",
      "Accuracy: 0.8727272727272727\n",
      "\n",
      "Support Vector Machine\n",
      "Average F-measure: 0.9256923076923076\n",
      "Accuracy: 0.9636363636363636\n",
      "\n"
     ]
    }
   ],
   "source": [
    "import pandas as pd\n",
    "import numpy as np\n",
    "from sklearn.model_selection import cross_val_score, train_test_split, StratifiedKFold\n",
    "from sklearn.naive_bayes import GaussianNB\n",
    "from sklearn.svm import SVC\n",
    "from sklearn.metrics import f1_score, accuracy_score\n",
    "\n",
    "data = pd.read_csv(r'C:\\Users\\pc\\Desktop\\lab 13 AI full\\dermatology.data', names=column_names)\n",
    "\n",
    "# Load the dataset\n",
    "column_names = ['erythema', 'scaling', 'definite_borders', 'itching', 'koebner_phenomenon', 'polygonal_papules',\n",
    "                'follicular_papules', 'oral_mucosal_involvement', 'knee_and_elbow_involvement', 'scalp_involvement',\n",
    "                'family_history', 'melanin_incontinence', 'eosinophils_in_the_infiltrate', 'PNL_infiltrate',\n",
    "                'fibrosis_of_the_papillary_dermis', 'exocytosis', 'acanthosis', 'hyperkeratosis', 'parakeratosis',\n",
    "                'dlubrication', 'spongiosis', 'saw_tooth_appearance_of_retes', 'follicular_horn_plug',\n",
    "                'perifollicular_parakeratosis', 'inflammatory_monoluclear_inflitrate', 'band_like_infiltrate',\n",
    "                'age', 'class']\n",
    "\n",
    "# Preprocessing: replacing missing values with the most frequent value in each column\n",
    "data = data.replace('?', np.nan)\n",
    "data = data.apply(lambda x: x.fillna(x.value_counts().index[0]))\n",
    "\n",
    "# Preprocessing: separating features and target variable\n",
    "X = data.iloc[:, :-1]\n",
    "y = data.iloc[:, -1]\n",
    "\n",
    "# Random train/test split (70%, 30%)\n",
    "X_train, X_test, y_train, y_test = train_test_split(X, y, test_size=0.3, random_state=42)\n",
    "\n",
    "# Naïve Bayes classification\n",
    "nb_classifier = GaussianNB()\n",
    "nb_classifier.fit(X_train, y_train)\n",
    "\n",
    "# Perform 10-fold cross-validation with Naïve Bayes\n",
    "nb_cv_scores = cross_val_score(nb_classifier, X_train, y_train, cv=StratifiedKFold(n_splits=10, shuffle=True))\n",
    "\n",
    "# Calculate F-measure and Accuracy for Naïve Bayes\n",
    "nb_f_measure = np.mean(nb_cv_scores)\n",
    "nb_accuracy = nb_classifier.score(X_test, y_test)\n",
    "\n",
    "# SVM classification\n",
    "svm_classifier = SVC(kernel='linear', random_state=42)\n",
    "svm_classifier.fit(X_train, y_train)\n",
    "\n",
    "# Perform 10-fold cross-validation with SVM\n",
    "svm_cv_scores = cross_val_score(svm_classifier, X_train, y_train, cv=StratifiedKFold(n_splits=10, shuffle=True))\n",
    "\n",
    "# Calculate F-measure and Accuracy for SVM\n",
    "svm_f_measure = np.mean(svm_cv_scores)\n",
    "svm_accuracy = svm_classifier.score(X_test, y_test)\n",
    "\n",
    "# Print the results\n",
    "print(\"Naïve Bayes\")\n",
    "print(f\"Average F-measure: {nb_f_measure}\")\n",
    "print(f\"Accuracy: {nb_accuracy}\\n\")\n",
    "\n",
    "print(\"Support Vector Machine\")\n",
    "print(f\"Average F-measure: {svm_f_measure}\")\n",
    "print(f\"Accuracy: {svm_accuracy}\\n\")\n"
   ]
  }
 ],
 "metadata": {
  "kernelspec": {
   "display_name": "Python 3 (ipykernel)",
   "language": "python",
   "name": "python3"
  },
  "language_info": {
   "codemirror_mode": {
    "name": "ipython",
    "version": 3
   },
   "file_extension": ".py",
   "mimetype": "text/x-python",
   "name": "python",
   "nbconvert_exporter": "python",
   "pygments_lexer": "ipython3",
   "version": "3.9.13"
  }
 },
 "nbformat": 4,
 "nbformat_minor": 5
}
