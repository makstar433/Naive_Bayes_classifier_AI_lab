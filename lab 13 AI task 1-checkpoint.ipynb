{
 "cells": [
  {
   "cell_type": "code",
   "execution_count": 1,
   "id": "8c579e77",
   "metadata": {},
   "outputs": [],
   "source": [
    "import pandas as pd,scipy,numpy as np\n",
    "from sklearn.preprocessing import MinMaxScaler\n",
    "\n",
    "ds = pd.read_excel(r'C:\\Users\\pc\\Downloads\\weatherTemp.xlsx')\n",
    "x=ds.iloc[:,0:2]. values #for input values\n",
    "y=ds.iloc[:,2]. values # for output value"
   ]
  },
  {
   "cell_type": "code",
   "execution_count": 2,
   "id": "95508de3",
   "metadata": {},
   "outputs": [
    {
     "name": "stdout",
     "output_type": "stream",
     "text": [
      " Weather : [2 2 0 1 1 1 0 2 2 1 2 0 0 1]\n",
      " Temp : [1 1 1 2 0 2 0 2 0 2 2 2 1 2]\n",
      " Play : [0 0 1 1 1 0 1 0 1 1 1 1 1 0]\n"
     ]
    }
   ],
   "source": [
    "# Import LabelEncoder\n",
    "from sklearn . preprocessing import LabelEncoder\n",
    "le= LabelEncoder ()\n",
    "\n",
    "# Converting string labels into numbers .\n",
    "x [: ,0]= le. fit_transform (x [: ,0])\n",
    "x [: ,1]= le. fit_transform (x [: ,1])\n",
    "y=le. fit_transform (y)\n",
    "\n",
    "print (\" Weather :\", x[: ,0])\n",
    "print (\" Temp :\",x [: ,1])\n",
    "print (\" Play :\",y)"
   ]
  },
  {
   "cell_type": "code",
   "execution_count": 3,
   "id": "385d210f",
   "metadata": {},
   "outputs": [
    {
     "name": "stdout",
     "output_type": "stream",
     "text": [
      " Predicted Value : [1]\n"
     ]
    }
   ],
   "source": [
    "# Import Gaussian Naive Bayes model\n",
    "from sklearn.naive_bayes import GaussianNB\n",
    "\n",
    "# Create a Gaussian Classifier\n",
    "model = GaussianNB()\n",
    "\n",
    "# Train the model using the training sets\n",
    "model.fit(x,y)\n",
    "\n",
    "# predict Output\n",
    "predict = model.predict ([[0 ,1]]) # 0: Overcast , 2: Mild\n",
    "print (\" Predicted Value :\", predict)"
   ]
  }
 ],
 "metadata": {
  "kernelspec": {
   "display_name": "Python 3 (ipykernel)",
   "language": "python",
   "name": "python3"
  },
  "language_info": {
   "codemirror_mode": {
    "name": "ipython",
    "version": 3
   },
   "file_extension": ".py",
   "mimetype": "text/x-python",
   "name": "python",
   "nbconvert_exporter": "python",
   "pygments_lexer": "ipython3",
   "version": "3.9.13"
  }
 },
 "nbformat": 4,
 "nbformat_minor": 5
}
